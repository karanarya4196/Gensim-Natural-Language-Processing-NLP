{
 "cells": [
  {
   "cell_type": "markdown",
   "metadata": {},
   "source": [
    "# Converting Strings to Vectors"
   ]
  },
  {
   "cell_type": "code",
   "execution_count": 1,
   "metadata": {},
   "outputs": [
    {
     "name": "stderr",
     "output_type": "stream",
     "text": [
      "C:\\Users\\Karan.Arya\\AppData\\Local\\Continuum\\anaconda3\\envs\\py36\\lib\\site-packages\\gensim\\utils.py:1209: UserWarning: detected Windows; aliasing chunkize to chunkize_serial\n",
      "  warnings.warn(\"detected Windows; aliasing chunkize to chunkize_serial\")\n"
     ]
    }
   ],
   "source": [
    "from gensim import corpora\n",
    "from nltk.tokenize import sent_tokenize"
   ]
  },
  {
   "cell_type": "markdown",
   "metadata": {},
   "source": [
    "Text extracted from The Hindu Editorial page: https://www.thehindu.com/opinion/editorial/capital-idea/article25814417.ece"
   ]
  },
  {
   "cell_type": "code",
   "execution_count": 2,
   "metadata": {},
   "outputs": [],
   "source": [
    "text = \"With just months to go for the general election, the government looks all set to open the credit taps of the economy. The Centre has sought Parliament’s approval to infuse an additional ₹41,000 crore into public sector banks that are starved of precious capital to remain afloat. Along with another ₹42,000 crore that is already budgeted for infusion, this tranche will take the total planned funds infusion into banks this year to ₹83,000 crore. More important, the infusion will help banks boost lending and stimulate economic activity going into an election year. In fact, the latest fund infusion is aimed, among other things, to help a number of public sector banks to climb out of the Reserve Bank of India’s Prompt Corrective Action (PCA) framework. As many as 11 public sector banks have been stopped from lending freely by the RBI under the PCA framework due to their poor financial health. It is important that the additional capital is not wasted on banks that have not shown any improvement but rather used to support the weak ones that are on the recovery path. The government has said that PCA banks which have shown better performance in terms of reduction in NPAs and improvement in return of assets will be given priority. The proof will come when the allocations to individual banks are announced.\""
   ]
  },
  {
   "cell_type": "markdown",
   "metadata": {},
   "source": [
    "### Sentence Tokenization"
   ]
  },
  {
   "cell_type": "code",
   "execution_count": 3,
   "metadata": {},
   "outputs": [],
   "source": [
    "tokenized_text = sent_tokenize(text)"
   ]
  },
  {
   "cell_type": "code",
   "execution_count": 4,
   "metadata": {},
   "outputs": [
    {
     "data": {
      "text/plain": [
       "['With just months to go for the general election, the government looks all set to open the credit taps of the economy.',\n",
       " 'The Centre has sought Parliament’s approval to infuse an additional ₹41,000 crore into public sector banks that are starved of precious capital to remain afloat.',\n",
       " 'Along with another ₹42,000 crore that is already budgeted for infusion, this tranche will take the total planned funds infusion into banks this year to ₹83,000 crore.',\n",
       " 'More important, the infusion will help banks boost lending and stimulate economic activity going into an election year.',\n",
       " 'In fact, the latest fund infusion is aimed, among other things, to help a number of public sector banks to climb out of the Reserve Bank of India’s Prompt Corrective Action (PCA) framework.',\n",
       " 'As many as 11 public sector banks have been stopped from lending freely by the RBI under the PCA framework due to their poor financial health.',\n",
       " 'It is important that the additional capital is not wasted on banks that have not shown any improvement but rather used to support the weak ones that are on the recovery path.',\n",
       " 'The government has said that PCA banks which have shown better performance in terms of reduction in NPAs and improvement in return of assets will be given priority.',\n",
       " 'The proof will come when the allocations to individual banks are announced.']"
      ]
     },
     "execution_count": 4,
     "metadata": {},
     "output_type": "execute_result"
    }
   ],
   "source": [
    "tokenized_text"
   ]
  },
  {
   "cell_type": "markdown",
   "metadata": {},
   "source": [
    "### Remove Stop Words"
   ]
  },
  {
   "cell_type": "code",
   "execution_count": 5,
   "metadata": {},
   "outputs": [],
   "source": [
    "from nltk.corpus import stopwords"
   ]
  },
  {
   "cell_type": "code",
   "execution_count": 6,
   "metadata": {},
   "outputs": [],
   "source": [
    "from nltk.tokenize import word_tokenize"
   ]
  },
  {
   "cell_type": "code",
   "execution_count": 7,
   "metadata": {},
   "outputs": [],
   "source": [
    "stop_words = set(stopwords.words('english'))"
   ]
  },
  {
   "cell_type": "code",
   "execution_count": 9,
   "metadata": {},
   "outputs": [],
   "source": [
    "tokenized_sents = [word_tokenize(i) for i in tokenized_text]"
   ]
  },
  {
   "cell_type": "code",
   "execution_count": 11,
   "metadata": {},
   "outputs": [
    {
     "name": "stdout",
     "output_type": "stream",
     "text": [
      "['With', 'just', 'months', 'to', 'go', 'for', 'the', 'general', 'election', ',', 'the', 'government', 'looks', 'all', 'set', 'to', 'open', 'the', 'credit', 'taps', 'of', 'the', 'economy', '.']\n",
      "['The', 'Centre', 'has', 'sought', 'Parliament', '’', 's', 'approval', 'to', 'infuse', 'an', 'additional', '₹41,000', 'crore', 'into', 'public', 'sector', 'banks', 'that', 'are', 'starved', 'of', 'precious', 'capital', 'to', 'remain', 'afloat', '.']\n",
      "['Along', 'with', 'another', '₹42,000', 'crore', 'that', 'is', 'already', 'budgeted', 'for', 'infusion', ',', 'this', 'tranche', 'will', 'take', 'the', 'total', 'planned', 'funds', 'infusion', 'into', 'banks', 'this', 'year', 'to', '₹83,000', 'crore', '.']\n",
      "['More', 'important', ',', 'the', 'infusion', 'will', 'help', 'banks', 'boost', 'lending', 'and', 'stimulate', 'economic', 'activity', 'going', 'into', 'an', 'election', 'year', '.']\n",
      "['In', 'fact', ',', 'the', 'latest', 'fund', 'infusion', 'is', 'aimed', ',', 'among', 'other', 'things', ',', 'to', 'help', 'a', 'number', 'of', 'public', 'sector', 'banks', 'to', 'climb', 'out', 'of', 'the', 'Reserve', 'Bank', 'of', 'India', '’', 's', 'Prompt', 'Corrective', 'Action', '(', 'PCA', ')', 'framework', '.']\n",
      "['As', 'many', 'as', '11', 'public', 'sector', 'banks', 'have', 'been', 'stopped', 'from', 'lending', 'freely', 'by', 'the', 'RBI', 'under', 'the', 'PCA', 'framework', 'due', 'to', 'their', 'poor', 'financial', 'health', '.']\n",
      "['It', 'is', 'important', 'that', 'the', 'additional', 'capital', 'is', 'not', 'wasted', 'on', 'banks', 'that', 'have', 'not', 'shown', 'any', 'improvement', 'but', 'rather', 'used', 'to', 'support', 'the', 'weak', 'ones', 'that', 'are', 'on', 'the', 'recovery', 'path', '.']\n",
      "['The', 'government', 'has', 'said', 'that', 'PCA', 'banks', 'which', 'have', 'shown', 'better', 'performance', 'in', 'terms', 'of', 'reduction', 'in', 'NPAs', 'and', 'improvement', 'in', 'return', 'of', 'assets', 'will', 'be', 'given', 'priority', '.']\n",
      "['The', 'proof', 'will', 'come', 'when', 'the', 'allocations', 'to', 'individual', 'banks', 'are', 'announced', '.']\n"
     ]
    }
   ],
   "source": [
    "for i in tokenized_sents:\n",
    "    print(i)"
   ]
  },
  {
   "cell_type": "code",
   "execution_count": null,
   "metadata": {},
   "outputs": [],
   "source": []
  }
 ],
 "metadata": {
  "kernelspec": {
   "display_name": "Python 3",
   "language": "python",
   "name": "python3"
  },
  "language_info": {
   "codemirror_mode": {
    "name": "ipython",
    "version": 3
   },
   "file_extension": ".py",
   "mimetype": "text/x-python",
   "name": "python",
   "nbconvert_exporter": "python",
   "pygments_lexer": "ipython3",
   "version": "3.6.6"
  }
 },
 "nbformat": 4,
 "nbformat_minor": 2
}
